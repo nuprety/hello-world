{
  "nbformat": 4,
  "nbformat_minor": 0,
  "metadata": {
    "kernelspec": {
      "display_name": "Python 3",
      "language": "python",
      "name": "python3"
    },
    "language_info": {
      "codemirror_mode": {
        "name": "ipython",
        "version": 3
      },
      "file_extension": ".py",
      "mimetype": "text/x-python",
      "name": "python",
      "nbconvert_exporter": "python",
      "pygments_lexer": "ipython3",
      "version": "3.7.9"
    },
    "colab": {
      "name": "assignment1.ipynb",
      "provenance": []
    }
  },
  "cells": [
    {
      "cell_type": "markdown",
      "metadata": {
        "id": "bTxCmjRkqtxU"
      },
      "source": [
        "Before you turn this problem in, make sure everything runs as expected. \n",
        "\n",
        "\n",
        "First, **restart the kernel** (in the menubar, select Kernel$\\rightarrow$Restart) and then **run all cells** (in the menubar, select Cell$\\rightarrow$Run All).\n",
        "\n",
        "Make sure you fill in any place that says `YOUR CODE HERE` or \"YOUR ANSWER HERE\", as well as your name and collaborators below:"
      ]
    },
    {
      "cell_type": "code",
      "metadata": {
        "id": "cs5vBRcYqtxZ"
      },
      "source": [
        "NAME = \"Nitika Uprety\"\n",
        "COLLABORATORS = \"\""
      ],
      "execution_count": 1,
      "outputs": []
    },
    {
      "cell_type": "markdown",
      "metadata": {
        "id": "n_zXmr3Fqtxa"
      },
      "source": [
        "---"
      ]
    },
    {
      "cell_type": "markdown",
      "metadata": {
        "deletable": false,
        "editable": false,
        "nbgrader": {
          "cell_type": "markdown",
          "checksum": "b60c26957cae25cc64007bb304becb9a",
          "grade": false,
          "grade_id": "cell-9f16b05385ed5d48",
          "locked": true,
          "schema_version": 3,
          "solution": false,
          "task": false
        },
        "id": "PVLTKBY-qtxb"
      },
      "source": [
        "<a href='https://ai.meng.duke.edu'> = <img align=\"left\" style=\"padding-top:10px;\" src=https://storage.googleapis.com/aipi_datasets/Duke-AIPI-Logo.png>"
      ]
    },
    {
      "cell_type": "markdown",
      "metadata": {
        "deletable": false,
        "editable": false,
        "nbgrader": {
          "cell_type": "markdown",
          "checksum": "cb882a93ee300e5b82a10f4fcc354456",
          "grade": false,
          "grade_id": "cell-a664738d68ba03e6",
          "locked": true,
          "schema_version": 3,
          "solution": false,
          "task": false
        },
        "id": "J_sfsZxLqtxb"
      },
      "source": [
        "# Assignment 1\n",
        "Welcome to your first assignment in Module 2 of the Summer Computing Institute!  This assignment is all about getting comfortable working in Jupyter Notebooks, an extremely popular medium for doing data science programming. As you read this you are seeing the benefits of working in notebooks - they allow you to mix text, code, and images all together in a single file.\n",
        "\n",
        "Before you start on the assignment, be sure you have fully read through the \"assignment_instructions.md\" document and understand how to submit your work for grading.  \n",
        "\n",
        "The questions below will ask you to write some code, and then in the cell directly following it there will be one or more test cases to evaluate your solution.  Some of these test cases will be visible to you so that you can verify your work, but some cells will also have additional hidden test cases which are applied when grading to keep everyone honest. \n",
        "\n",
        "Before you push your final version back to your GitHub repo, always make sure that:  \n",
        "- You restart the kernel of your notebook (under the \"Kernel\" menu at top) and run everything from top to bottom to ensure you do not have any errors  \n",
        "- Your code is passing all the visible test cases  \n",
        "\n",
        "After you push your solution back to your GitHub repo, view the repo in your web browser to make sure that it contains your intended version."
      ]
    },
    {
      "cell_type": "markdown",
      "metadata": {
        "deletable": false,
        "editable": false,
        "nbgrader": {
          "cell_type": "markdown",
          "checksum": "25dec1bed84a3ebb3fa7ec1359d4c574",
          "grade": false,
          "grade_id": "cell-1179e47adce63631",
          "locked": true,
          "schema_version": 3,
          "solution": false,
          "task": false
        },
        "id": "zWhORrR_qtxc"
      },
      "source": [
        "### Question 1\n",
        "Let's start with a warmup exercise to practice our Python.  We are going to perform some basic analysis of the stock price for a fictional company NewCo.  Let's suppose we receive some data on the last 10 days of NewCo's stock price.  The data is in the form of a dictionary 'newco_dict' where the keys are ['DATE','LOW','HIGH','CLOSE'].  'DATE' contains a list of string dates. 'LOW' and 'HIGH' each contain a list of the lowest price and highest price respectively of the stock during each day in the 10-day period. 'CLOSE' contains a list of the closing price of the stock at the end of each day during the 10-day period.\n",
        "\n",
        "For example, newco_dict might look like the following:  \n",
        "\n",
        "```\n",
        "newco_dict = {'DATE':['06-14-21','06-15-21','06-16-21','06-17-21','06-18-21',\n",
        "                      '06-21-21','06-22-21','06-23-21','06-24-21','06-25-21'],\n",
        "              'LOW':[80,72,70,74,82,88,94,88,73,67],\n",
        "              'HIGH':[95,81,76,88,90,96,102,94,90,72],\n",
        "              'CLOSE':[90,75,75,86,90,93,100,91,75,68]}\n",
        "```\n",
        "\n",
        "Our goal in this assignment will be to find all the dates during the 10-day period when the closing price of the stock was equal to the mode (most frequent) value of the closing prices over the 10-day period.  We are going to tackle this in two parts.  First we will create a function to find the mode of the closing prices.  In part 2 we will then create a function to identify the dates on which the closing price was equal to the mode.\n",
        "\n",
        "\n",
        "NOTE: For all parts of Question 1, you may not import any additional libraries - I would like you to solve these using only the Python you have learned so far and no helper libraries unless already imported for you. \n",
        "\n",
        "#### Question 1.1\n",
        "Let's first define a function `most_freq_closing(price_dict)` which takes as input a dictionary of prices in the form of 'newco_dict' and returns the most frequent closing price (the mode of the closing prices) during the period as an integer.\n",
        "\n",
        "There are many ways to approach this problem.  One method (although there are others) might be to iterate through the set of the unique closing values and count how often each one appears during the 10 days.  The mode is the one that appears most frequently (has the highest count of appearances).  If there are two closing price values that are equally as frequent in the data, you may return either of them (but only one).\n",
        "\n",
        "How you structure your solution is up to you, although you must complete the `most_freq_closing` function below.  You may include all your solution code within that function or break sub-tasks out into separate smaller functions (which you can insert into the same cell or add a new cell)."
      ]
    },
    {
      "cell_type": "code",
      "metadata": {
        "deletable": false,
        "nbgrader": {
          "cell_type": "code",
          "checksum": "ba20ccb61689a1fb6aaea277ba01df76",
          "grade": false,
          "grade_id": "cell-c61d21d175f8cc1a",
          "locked": false,
          "schema_version": 3,
          "solution": true,
          "task": false
        },
        "id": "BpjNlOw1qtxd"
      },
      "source": [
        "def most_freq_closing(price_dict):\n",
        "    # Identifies the mode of the stock closing prices\n",
        "    # YOUR CODE HERE\n",
        "    #getting the values of key close and storing it in close_price\n",
        "    close_price = price_dict.get('CLOSE').copy()\n",
        "    #sorting the close_price in ascending\n",
        "    close_price.sort()\n",
        "    #empty list\n",
        "    l1 =[]\n",
        "    #iterating through the elements\n",
        "    i= 0\n",
        "    while i < len(close_price):\n",
        "      # adding to dictionary l1 the count of each occurence in close_Date\n",
        "      l1.append(close_price.count(close_price[i]))\n",
        "      i += 1\n",
        "    # custom dictionary for a : b ( a= sorted close_price values, b = their occurences)\n",
        "    d1 = dict(zip(close_price, l1))\n",
        "\n",
        "    for (a,b ) in d1.items():\n",
        "      if b == max(l1):\n",
        "        return a\n",
        "\n",
        "   # print(l1)\n",
        "    #print(d1)\n",
        "    \n",
        "    raise NotImplementedError()\n",
        "#newco_dict = {'Date':[2, 3, 4],\n",
        " #         'CLOSE':[90,75,75,86,90,93,100,91,75,68]}\n",
        "#most_freq_closing(newco_dict)"
      ],
      "execution_count": 2,
      "outputs": []
    },
    {
      "cell_type": "code",
      "metadata": {
        "deletable": false,
        "editable": false,
        "nbgrader": {
          "cell_type": "code",
          "checksum": "4294692c16c53c98604f995529e816a1",
          "grade": true,
          "grade_id": "cell-1e5d837902352889",
          "locked": true,
          "points": 1,
          "schema_version": 3,
          "solution": false,
          "task": false
        },
        "colab": {
          "base_uri": "https://localhost:8080/"
        },
        "id": "AZptYzfDqtxf",
        "outputId": "15626607-ecdc-44bf-afad-9e84bdde3a7e"
      },
      "source": [
        "# `most_freq_closing()`: test cell\n",
        "newco_dict = {'DATE':['06-14-21','06-15-21','06-16-21','06-17-21','06-18-21',\n",
        "                      '06-21-21','06-22-21','06-23-21','06-24-21','06-25-21'],\n",
        "              'LOW':[80,72,70,74,82,88,94,88,73,67],\n",
        "              'HIGH':[95,81,76,88,90,96,102,94,90,72],\n",
        "              'CLOSE':[90,75,75,86,90,93,100,91,75,68]}\n",
        "mode_price = most_freq_closing(newco_dict)\n",
        "print(f'Your function calculated the most frequent price as {mode_price}')\n",
        "assert type(mode_price) == int, 'Your function did not return an integer'\n",
        "assert mode_price == 75,'Incorrect, check your function and try again'\n",
        "print('\\n(Passed visible tests!)')\n"
      ],
      "execution_count": 3,
      "outputs": [
        {
          "output_type": "stream",
          "text": [
            "Your function calculated the most frequent price as 75\n",
            "\n",
            "(Passed visible tests!)\n"
          ],
          "name": "stdout"
        }
      ]
    },
    {
      "cell_type": "markdown",
      "metadata": {
        "deletable": false,
        "editable": false,
        "nbgrader": {
          "cell_type": "markdown",
          "checksum": "cf97f3892d786e3a9096de09af06c509",
          "grade": false,
          "grade_id": "cell-8bbcac4f70cce636",
          "locked": true,
          "schema_version": 3,
          "solution": false,
          "task": false
        },
        "id": "iiBVUPyOqtxg"
      },
      "source": [
        "#### Question 1.2\n",
        "Let's now make use of our new function `most_freq_closing` to find all dates on which the most frequent closing price occurred.  Write a new function `dates_most_freq_closing(price_dict)` which finds and returns the dates on which the most frequent (mode) closing price occurs.  The input to the function is a dictionary of the form of `newco_dict` and the output is a **list** of dates.  Your function should make use of the function `most_freq_closing()` that you just wrote to find the mode closing price, and then you should find all dates on which it occurs."
      ]
    },
    {
      "cell_type": "code",
      "metadata": {
        "deletable": false,
        "nbgrader": {
          "cell_type": "code",
          "checksum": "35c3d142e7a10b707896fe586cc7f949",
          "grade": false,
          "grade_id": "cell-2f9bc10ff3889fa4",
          "locked": false,
          "schema_version": 3,
          "solution": true,
          "task": false
        },
        "id": "deDnqmuWqtxh"
      },
      "source": [
        "def dates_most_freq_closing(price_dict):\n",
        "    # Returns a list of dates on which the stock closing price was equal to the mode\n",
        "    # YOUR CODE HERE\n",
        "    mode_value = most_freq_closing(price_dict)\n",
        "    print(mode_value)\n",
        "    print(price_dict)\n",
        "    final_dates = []\n",
        "    list_ofi = []\n",
        "    for i in range(len(price_dict['CLOSE'])):    \n",
        "      value = price_dict['CLOSE'][i]\n",
        "      if value == mode_value:\n",
        "          list_ofi.append(i)\n",
        "      pass\n",
        "    \n",
        "    for i in list_ofi:\n",
        "      date = price_dict['DATE'][i]\n",
        "      final_dates.append(date)\n",
        "    return final_dates\n",
        "    #dates = price_dict['DATE']\n",
        "\n",
        "\n",
        "    \"\"\"\n",
        "    for (dates, close) in price_dict.items():\n",
        "      if price_dict.get('CLOSE') == mode_value:\n",
        "        final_date.append(price_dict.get('DATE'))\n",
        "    return final_dates\n",
        "    print(final_Dates)\n",
        "    \"\"\"\n",
        "  #  print(list_Dates)\n",
        "\n",
        "   # raise NotImplementedError()\n",
        "   # newco_dict = {'DATE':[2, 3, 4],\n",
        "    #     'CLOSE':[90,75,75,86,90,93,100,91,75,68]}\n",
        "    #dates_most_freq_closing(newco_dict)"
      ],
      "execution_count": 4,
      "outputs": []
    },
    {
      "cell_type": "code",
      "metadata": {
        "deletable": false,
        "editable": false,
        "nbgrader": {
          "cell_type": "code",
          "checksum": "f20b76af534a63fbc1baf1f91d2555fa",
          "grade": true,
          "grade_id": "cell-2dddb819d9fe493a",
          "locked": true,
          "points": 1,
          "schema_version": 3,
          "solution": false,
          "task": false
        },
        "colab": {
          "base_uri": "https://localhost:8080/"
        },
        "id": "jR2DtqJVqtxh",
        "outputId": "87ff1a95-b72c-4f2c-8c2a-cb75fbe7000e"
      },
      "source": [
        "# `dates_most_freq_closing()`: test cell\n",
        "newco_dict = {'DATE':['06-14-21','06-15-21','06-16-21','06-17-21','06-18-21',\n",
        "                      '06-21-21','06-22-21','06-23-21','06-24-21','06-25-21'],\n",
        "              'LOW':[80,72,70,74,82,88,94,88,73,67],\n",
        "              'HIGH':[95,81,76,88,90,96,102,94,90,72],\n",
        "              'CLOSE':[90,75,75,86,90,93,100,91,75,68]}\n",
        "dates = dates_most_freq_closing(newco_dict)\n",
        "print(f'Your function returned the dates: {dates}')\n",
        "assert type(dates) == list, 'Your function did not return a list of dates'\n",
        "assert type(dates[0] == str), 'The values in your list are not strings'\n",
        "assert dates == ['06-15-21', '06-16-21', '06-24-21'], 'Incorrect, check your function and try again'\n",
        "print('\\n(Passed visible tests!)')"
      ],
      "execution_count": 5,
      "outputs": [
        {
          "output_type": "stream",
          "text": [
            "75\n",
            "{'DATE': ['06-14-21', '06-15-21', '06-16-21', '06-17-21', '06-18-21', '06-21-21', '06-22-21', '06-23-21', '06-24-21', '06-25-21'], 'LOW': [80, 72, 70, 74, 82, 88, 94, 88, 73, 67], 'HIGH': [95, 81, 76, 88, 90, 96, 102, 94, 90, 72], 'CLOSE': [90, 75, 75, 86, 90, 93, 100, 91, 75, 68]}\n",
            "Your function returned the dates: ['06-15-21', '06-16-21', '06-24-21']\n",
            "\n",
            "(Passed visible tests!)\n"
          ],
          "name": "stdout"
        }
      ]
    }
  ]
}